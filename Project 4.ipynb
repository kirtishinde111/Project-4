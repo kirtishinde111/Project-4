{
 "cells": [
  {
   "cell_type": "code",
   "execution_count": null,
   "id": "5a233a83",
   "metadata": {},
   "outputs": [],
   "source": [
    "#Project Name: Secure Password Generator\n",
    "import random\n",
    "\n",
    "def generate_password():\n",
    "    # Ask the user for password preferences\n",
    "    length = int(input(\"Enter the password length: \"))\n",
    "    use_upper = input(\"Include uppercase letters? (y/n): \") == 'y'\n",
    "    use_numbers = input(\"Include numbers? (y/n): \") == 'y'\n",
    "    use_symbols = input(\"Include symbols? (y/n): \") == 'y'\n",
    "    \n",
    "    # Define basic character sets\n",
    "    lower_letters = 'abcdefghijklmnopqrstuvwxyz'\n",
    "    upper_letters = 'ABCDEFGHIJKLMNOPQRSTUVWXYZ'\n",
    "    numbers = '0123456789'\n",
    "    symbols = '!@#$%^&*()-_+=<>?'\n",
    "    \n",
    "    # Start with lowercase letters\n",
    "    possible_characters = lower_letters\n",
    "    if use_upper:\n",
    "        possible_characters += upper_letters\n",
    "    if use_numbers:\n",
    "        possible_characters += numbers\n",
    "    if use_symbols:\n",
    "        possible_characters += symbols\n",
    "    \n",
    "    \n",
    "    password = ''.join(random.choice(possible_characters) for _ in range(length))\n",
    "    print(\"Generated Password:\", password)\n",
    "\n",
    "\n",
    "generate_password()\n"
   ]
  },
  {
   "cell_type": "code",
   "execution_count": null,
   "id": "4a579b66",
   "metadata": {},
   "outputs": [],
   "source": []
  }
 ],
 "metadata": {
  "kernelspec": {
   "display_name": "Python 3 (ipykernel)",
   "language": "python",
   "name": "python3"
  },
  "language_info": {
   "codemirror_mode": {
    "name": "ipython",
    "version": 3
   },
   "file_extension": ".py",
   "mimetype": "text/x-python",
   "name": "python",
   "nbconvert_exporter": "python",
   "pygments_lexer": "ipython3",
   "version": "3.10.9"
  }
 },
 "nbformat": 4,
 "nbformat_minor": 5
}
